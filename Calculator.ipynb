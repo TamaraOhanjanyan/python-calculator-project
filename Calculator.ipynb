{
 "cells": [
  {
   "cell_type": "code",
   "execution_count": 14,
   "id": "5f8c79db-fc9e-4e9b-bc46-7927b7280361",
   "metadata": {},
   "outputs": [
    {
     "name": "stdin",
     "output_type": "stream",
     "text": [
      "Enter Starting Unit of MEasuremnet(inches, feet, yards):  inches\n",
      "Enter Unit of MEasuremnet to Convert to(inches, feet, yards):  feet\n",
      "Enter Starting Measurement in Inchers: 24\n",
      "Enter Starting Measurement in Feet: 3\n",
      "Enter Starting Measurement in Yards: 1\n"
     ]
    }
   ],
   "source": [
    "convert_from = input(\"Enter Starting Unit of MEasuremnet(inches, feet, yards): \")\n",
    "\n",
    "convert_to = input(\"Enter Unit of MEasuremnet to Convert to(inches, feet, yards): \")\n",
    "\n",
    "number_of_inches = input(\"Enter Starting Measurement in Inchers:\")\n",
    "\n",
    "number_of_feet =input(\"Enter Starting Measurement in Feet:\")\n",
    "\n",
    "number_of_yards = input(\"Enter Starting Measurement in Yards:\")"
   ]
  },
  {
   "cell_type": "code",
   "execution_count": 62,
   "id": "05606902-dd32-4f57-aa1d-a053ade1bbd3",
   "metadata": {},
   "outputs": [
    {
     "name": "stdin",
     "output_type": "stream",
     "text": [
      "Enter Starting Unit of MEasuremnet(inches, feet, yards):  feet\n",
      "Enter Unit of MEasuremnet to Convert to(inches, feet, yards):  yards\n",
      "Enter Starting Measurement in Feet: 5\n"
     ]
    },
    {
     "name": "stdout",
     "output_type": "stream",
     "text": [
      "Result: 5 Feet = 1.67 Yards\n"
     ]
    }
   ],
   "source": [
    "convert_from = input(\"Enter Starting Unit of MEasuremnet(inches, feet, yards): \")\n",
    "convert_to = input(\"Enter Unit of MEasuremnet to Convert to(inches, feet, yards): \")\n",
    "\n",
    "if convert_from.lower() in [ \"inches\",\"inch\", \"in\"]:\n",
    "    number_of_inches = int(input(\"Enter Srating Measurement in Inches:\"))\n",
    "    if convert_to.lower() in  [\"feet\", \"foot\", \"ft\"]:\n",
    "        print(\"Result: \" + str(number_of_inches) + \" Inches = \" + str(round(number_of_inches / 12)) + \" Feet\")\n",
    "    elif convert_to.lower() in [\"yards\", \"yard\", \"yds\", \"yd\"]:\n",
    "        print(\"Result: \" + str(number_of_inches) + \" Inches = \" + str(round(number_of_inches / 36,2)) + \" Yards\")\n",
    "    else:\n",
    "        print(\"Please Enter either Inches, Feet, or Yards.\")\n",
    "        \n",
    "elif convert_from.lower() in  [\"feet\", \"foot\", \"ft\"]:\n",
    "    number_of_feet = int(input(\"Enter Starting Measurement in Feet:\"))\n",
    "    if convert_to.lower() in [\"inches\",\"inch\", \"in\"]:\n",
    "        print(\"Result: \" + str(number_of_feet) + \" Feet = \" + str(round(number_of_feet * 12)) + \" Inches\")\n",
    "    elif convert_to.lower() in [\"yards\", \"yard\", \"yds\", \"yd\"]:\n",
    "        print(\"Result: \" + str(number_of_feet) + \" Feet = \" + str(round(number_of_feet / 3,2)) + \" Yards\")\n",
    "    else:\n",
    "        print(\"YPlease Enter either Inches, Feet, or Yards.\")\n",
    "\n",
    "elif convert_from.lower() in [\"yards\", \"yard\", \"yds\", \"yd\"]:\n",
    "    number_of_yards = int(input(\"Enter Starting Measurement in Yards:\"))\n",
    "    if convert_to.lower() in [\"inches\",\"inch\", \"in\"]:\n",
    "        print(\"Result: \" + str(number_of_yards) + \" Yards = \" + str(round(number_of_yards * 36)) + \" Inches\")\n",
    "    elif convert_to.lower() in [\"feet\", \"foot\", \"ft\"]:\n",
    "        print(\"Result: \" + str(number_of_yards) + \" Yards = \" + str(round(number_of_yards * 3)) + \" Feet\")\n",
    "    else:\n",
    "        print(\"YPlease Enter either Inches, Feet, or Yards.\")\n",
    "else:\n",
    "    print(\"Please Enter either Inches, Feet, or Yards.\")\n",
    "    "
   ]
  },
  {
   "cell_type": "code",
   "execution_count": null,
   "id": "9132a436-607f-4480-8e70-5eaa312752d2",
   "metadata": {},
   "outputs": [],
   "source": []
  }
 ],
 "metadata": {
  "kernelspec": {
   "display_name": "Python 3 (ipykernel)",
   "language": "python",
   "name": "python3"
  },
  "language_info": {
   "codemirror_mode": {
    "name": "ipython",
    "version": 3
   },
   "file_extension": ".py",
   "mimetype": "text/x-python",
   "name": "python",
   "nbconvert_exporter": "python",
   "pygments_lexer": "ipython3",
   "version": "3.12.4"
  }
 },
 "nbformat": 4,
 "nbformat_minor": 5
}
